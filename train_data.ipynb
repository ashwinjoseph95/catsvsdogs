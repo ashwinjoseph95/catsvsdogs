{
 "cells": [
  {
   "cell_type": "code",
   "execution_count": 1,
   "metadata": {},
   "outputs": [
    {
     "name": "stderr",
     "output_type": "stream",
     "text": [
      "/home/ashwin/.local/lib/python3.6/site-packages/matplotlib/font_manager.py:280: UserWarning: Matplotlib is building the font cache using fc-list. This may take a moment.\n",
      "  'Matplotlib is building the font cache using fc-list. '\n",
      "Using TensorFlow backend.\n"
     ]
    }
   ],
   "source": [
    "import numpy\n",
    "import matplotlib.pyplot as plt\n",
    "from keras.layers import Dropout\n",
    "from keras.layers import Flatten\n",
    "from keras.constraints import maxnorm\n",
    "from keras.optimizers import SGD\n",
    "from keras.layers import Conv2D\n",
    "from keras.layers.convolutional import MaxPooling2D\n",
    "from keras.utils import np_utils\n",
    "from keras import backend as K\n",
    "import load_data\n",
    "from keras.models import Sequential\n",
    "from keras.layers import Dense\n",
    "from sklearn.model_selection import train_test_split\n",
    "K.set_image_dim_ordering('tf')"
   ]
  },
  {
   "cell_type": "markdown",
   "metadata": {},
   "source": [
    "# Fix Random Seed for Reproducibility"
   ]
  },
  {
   "cell_type": "code",
   "execution_count": 2,
   "metadata": {
    "collapsed": true
   },
   "outputs": [],
   "source": [
    "seed = 7\n",
    "numpy.random.seed(seed)\n"
   ]
  },
  {
   "cell_type": "markdown",
   "metadata": {},
   "source": [
    "# Normalize inputs from 0-255 to 0.0-1.0"
   ]
  },
  {
   "cell_type": "code",
   "execution_count": 3,
   "metadata": {
    "collapsed": true
   },
   "outputs": [],
   "source": [
    "def pre_process(X):\n",
    "    X=X.astype('float32')\n",
    "    X = X / 255.0\n",
    "    return X"
   ]
  },
  {
   "cell_type": "markdown",
   "metadata": {},
   "source": [
    "#  One hot encode outputs"
   ]
  },
  {
   "cell_type": "code",
   "execution_count": 4,
   "metadata": {
    "collapsed": true
   },
   "outputs": [],
   "source": [
    "def one_hot_encode(y):\n",
    "\n",
    "    y = np_utils.to_categorical(y)\n",
    "    num_classes = y.shape[1]\n",
    "    return y,num_classes\n"
   ]
  },
  {
   "cell_type": "markdown",
   "metadata": {},
   "source": [
    "# Creating and Compiling the Model"
   ]
  },
  {
   "cell_type": "code",
   "execution_count": 5,
   "metadata": {
    "collapsed": true
   },
   "outputs": [],
   "source": [
    "def define_model(num_classes,epochs):\n",
    "    model = Sequential()\n",
    "    model.add(Conv2D(32, (3, 3), input_shape=(64, 64, 3), padding='same', activation='relu', kernel_constraint=maxnorm(3)))\n",
    "    model.add(Dropout(0.2))\n",
    "    model.add(Conv2D(32, (3, 3), activation='relu', padding='same', kernel_constraint=maxnorm(3)))\n",
    "    model.add(MaxPooling2D(pool_size=(2, 2)))\n",
    "    model.add(Flatten())\n",
    "    model.add(Dense(512, activation='relu', kernel_constraint=maxnorm(3)))\n",
    "    model.add(Dropout(0.5))\n",
    "    model.add(Dense(num_classes, activation='softmax'))    \n",
    "    lrate = 0.01\n",
    "    decay = lrate/epochs\n",
    "    sgd = SGD(lr=lrate, momentum=0.9, decay=decay, nesterov=False)\n",
    "    model.compile(loss='categorical_crossentropy', optimizer=sgd, metrics=['accuracy'])\n",
    "    print(model.summary())\n",
    "    return model"
   ]
  },
  {
   "cell_type": "code",
   "execution_count": 6,
   "metadata": {},
   "outputs": [
    {
     "name": "stdout",
     "output_type": "stream",
     "text": [
      "_________________________________________________________________\n",
      "Layer (type)                 Output Shape              Param #   \n",
      "=================================================================\n",
      "conv2d_1 (Conv2D)            (None, 64, 64, 32)        896       \n",
      "_________________________________________________________________\n",
      "dropout_1 (Dropout)          (None, 64, 64, 32)        0         \n",
      "_________________________________________________________________\n",
      "conv2d_2 (Conv2D)            (None, 64, 64, 32)        9248      \n",
      "_________________________________________________________________\n",
      "max_pooling2d_1 (MaxPooling2 (None, 32, 32, 32)        0         \n",
      "_________________________________________________________________\n",
      "flatten_1 (Flatten)          (None, 32768)             0         \n",
      "_________________________________________________________________\n",
      "dense_1 (Dense)              (None, 512)               16777728  \n",
      "_________________________________________________________________\n",
      "dropout_2 (Dropout)          (None, 512)               0         \n",
      "_________________________________________________________________\n",
      "dense_2 (Dense)              (None, 2)                 1026      \n",
      "=================================================================\n",
      "Total params: 16,788,898\n",
      "Trainable params: 16,788,898\n",
      "Non-trainable params: 0\n",
      "_________________________________________________________________\n",
      "None\n",
      "Train on 199 samples, validate on 50 samples\n",
      "Epoch 1/50\n",
      "199/199 [==============================] - 5s 25ms/step - loss: 0.7131 - acc: 0.5678 - val_loss: 0.6876 - val_acc: 0.5400\n",
      "Epoch 2/50\n",
      "199/199 [==============================] - 3s 17ms/step - loss: 0.6612 - acc: 0.6181 - val_loss: 0.6946 - val_acc: 0.4800\n",
      "Epoch 3/50\n",
      "199/199 [==============================] - 3s 17ms/step - loss: 0.6650 - acc: 0.6030 - val_loss: 0.6975 - val_acc: 0.5400\n",
      "Epoch 4/50\n",
      "199/199 [==============================] - 3s 17ms/step - loss: 0.6438 - acc: 0.6633 - val_loss: 0.6877 - val_acc: 0.5400\n",
      "Epoch 5/50\n",
      "199/199 [==============================] - 3s 17ms/step - loss: 0.6348 - acc: 0.6382 - val_loss: 0.6950 - val_acc: 0.5400\n",
      "Epoch 6/50\n",
      "199/199 [==============================] - 3s 17ms/step - loss: 0.6263 - acc: 0.6583 - val_loss: 0.6850 - val_acc: 0.6400\n",
      "Epoch 7/50\n",
      "199/199 [==============================] - 3s 17ms/step - loss: 0.6624 - acc: 0.6482 - val_loss: 0.6850 - val_acc: 0.5400\n",
      "Epoch 8/50\n",
      "199/199 [==============================] - 3s 17ms/step - loss: 0.6499 - acc: 0.6683 - val_loss: 0.6982 - val_acc: 0.5400\n",
      "Epoch 9/50\n",
      "199/199 [==============================] - 3s 17ms/step - loss: 0.6352 - acc: 0.6382 - val_loss: 0.6869 - val_acc: 0.5400\n",
      "Epoch 10/50\n",
      "199/199 [==============================] - 3s 17ms/step - loss: 0.6191 - acc: 0.6884 - val_loss: 0.7420 - val_acc: 0.5400\n",
      "Epoch 11/50\n",
      "199/199 [==============================] - 3s 17ms/step - loss: 0.6345 - acc: 0.6683 - val_loss: 0.6809 - val_acc: 0.6600\n",
      "Epoch 12/50\n",
      "199/199 [==============================] - 3s 17ms/step - loss: 0.6034 - acc: 0.6834 - val_loss: 0.7303 - val_acc: 0.5400\n",
      "Epoch 13/50\n",
      "199/199 [==============================] - 3s 17ms/step - loss: 0.6338 - acc: 0.6382 - val_loss: 0.7039 - val_acc: 0.5400\n",
      "Epoch 14/50\n",
      "199/199 [==============================] - 3s 17ms/step - loss: 0.6004 - acc: 0.6884 - val_loss: 0.7216 - val_acc: 0.5400\n",
      "Epoch 15/50\n",
      "199/199 [==============================] - 4s 18ms/step - loss: 0.6001 - acc: 0.6734 - val_loss: 0.6812 - val_acc: 0.5200\n",
      "Epoch 16/50\n",
      "199/199 [==============================] - 3s 17ms/step - loss: 0.5703 - acc: 0.6884 - val_loss: 0.7267 - val_acc: 0.5400\n",
      "Epoch 17/50\n",
      "199/199 [==============================] - 3s 17ms/step - loss: 0.5683 - acc: 0.7387 - val_loss: 0.6928 - val_acc: 0.5600\n",
      "Epoch 18/50\n",
      "199/199 [==============================] - 3s 17ms/step - loss: 0.5556 - acc: 0.7337 - val_loss: 0.7129 - val_acc: 0.5600\n",
      "Epoch 19/50\n",
      "199/199 [==============================] - 3s 17ms/step - loss: 0.5219 - acc: 0.7588 - val_loss: 0.7184 - val_acc: 0.6200\n",
      "Epoch 20/50\n",
      "199/199 [==============================] - 3s 17ms/step - loss: 0.4857 - acc: 0.7588 - val_loss: 0.7275 - val_acc: 0.6400\n",
      "Epoch 21/50\n",
      "199/199 [==============================] - 3s 17ms/step - loss: 0.4883 - acc: 0.7688 - val_loss: 0.8817 - val_acc: 0.5400\n",
      "Epoch 22/50\n",
      "199/199 [==============================] - 3s 17ms/step - loss: 0.5313 - acc: 0.7337 - val_loss: 0.7118 - val_acc: 0.5800\n",
      "Epoch 23/50\n",
      "199/199 [==============================] - 3s 17ms/step - loss: 0.5073 - acc: 0.7337 - val_loss: 0.6996 - val_acc: 0.6000\n",
      "Epoch 24/50\n",
      "199/199 [==============================] - 3s 17ms/step - loss: 0.4334 - acc: 0.8191 - val_loss: 0.9266 - val_acc: 0.5600\n",
      "Epoch 25/50\n",
      "199/199 [==============================] - 3s 17ms/step - loss: 0.5030 - acc: 0.7538 - val_loss: 0.7520 - val_acc: 0.5600\n",
      "Epoch 26/50\n",
      "199/199 [==============================] - 3s 17ms/step - loss: 0.4358 - acc: 0.7940 - val_loss: 0.7855 - val_acc: 0.6200\n",
      "Epoch 27/50\n",
      "199/199 [==============================] - 3s 17ms/step - loss: 0.3669 - acc: 0.8442 - val_loss: 1.0220 - val_acc: 0.5800\n",
      "Epoch 28/50\n",
      "199/199 [==============================] - 3s 17ms/step - loss: 0.3600 - acc: 0.8241 - val_loss: 0.9459 - val_acc: 0.5600\n",
      "Epoch 29/50\n",
      "199/199 [==============================] - 3s 17ms/step - loss: 0.3968 - acc: 0.8291 - val_loss: 0.7982 - val_acc: 0.5600\n",
      "Epoch 30/50\n",
      "199/199 [==============================] - 3s 17ms/step - loss: 0.3286 - acc: 0.8593 - val_loss: 0.9380 - val_acc: 0.5400\n",
      "Epoch 31/50\n",
      "199/199 [==============================] - 3s 17ms/step - loss: 0.2381 - acc: 0.9196 - val_loss: 0.8876 - val_acc: 0.6200\n",
      "Epoch 32/50\n",
      "199/199 [==============================] - 3s 17ms/step - loss: 0.1977 - acc: 0.9296 - val_loss: 1.0403 - val_acc: 0.6400\n",
      "Epoch 33/50\n",
      "199/199 [==============================] - 3s 17ms/step - loss: 0.1661 - acc: 0.9397 - val_loss: 1.1348 - val_acc: 0.5800\n",
      "Epoch 34/50\n",
      "199/199 [==============================] - 3s 17ms/step - loss: 0.1508 - acc: 0.9397 - val_loss: 1.1890 - val_acc: 0.6400\n",
      "Epoch 35/50\n",
      "199/199 [==============================] - 3s 17ms/step - loss: 0.1176 - acc: 0.9648 - val_loss: 1.2483 - val_acc: 0.6400\n",
      "Epoch 36/50\n",
      "199/199 [==============================] - 3s 17ms/step - loss: 0.1025 - acc: 0.9648 - val_loss: 1.1243 - val_acc: 0.5800\n",
      "Epoch 37/50\n",
      "199/199 [==============================] - 3s 17ms/step - loss: 0.0786 - acc: 0.9799 - val_loss: 1.6335 - val_acc: 0.6400\n",
      "Epoch 38/50\n",
      "199/199 [==============================] - 3s 17ms/step - loss: 0.0937 - acc: 0.9648 - val_loss: 1.7471 - val_acc: 0.5800\n",
      "Epoch 39/50\n",
      "199/199 [==============================] - 3s 17ms/step - loss: 0.2050 - acc: 0.9196 - val_loss: 1.0451 - val_acc: 0.4800\n",
      "Epoch 40/50\n",
      "199/199 [==============================] - 3s 17ms/step - loss: 0.1861 - acc: 0.9397 - val_loss: 1.0525 - val_acc: 0.6200\n",
      "Epoch 41/50\n",
      "199/199 [==============================] - 3s 17ms/step - loss: 0.1586 - acc: 0.9347 - val_loss: 1.3859 - val_acc: 0.6200\n",
      "Epoch 42/50\n",
      "199/199 [==============================] - 3s 17ms/step - loss: 0.1788 - acc: 0.9296 - val_loss: 1.2589 - val_acc: 0.5600\n",
      "Epoch 43/50\n",
      "199/199 [==============================] - 3s 17ms/step - loss: 0.1065 - acc: 0.9749 - val_loss: 1.5534 - val_acc: 0.5800\n",
      "Epoch 44/50\n",
      "199/199 [==============================] - 4s 18ms/step - loss: 0.0842 - acc: 0.9749 - val_loss: 1.5377 - val_acc: 0.5800\n",
      "Epoch 45/50\n",
      "199/199 [==============================] - 4s 18ms/step - loss: 0.0978 - acc: 0.9749 - val_loss: 1.2890 - val_acc: 0.5200\n",
      "Epoch 46/50\n",
      "199/199 [==============================] - 4s 18ms/step - loss: 0.0983 - acc: 0.9598 - val_loss: 1.4511 - val_acc: 0.6200\n",
      "Epoch 47/50\n",
      "199/199 [==============================] - 3s 18ms/step - loss: 0.1105 - acc: 0.9447 - val_loss: 1.4123 - val_acc: 0.5800\n",
      "Epoch 48/50\n",
      "199/199 [==============================] - 3s 17ms/step - loss: 0.1090 - acc: 0.9598 - val_loss: 1.5113 - val_acc: 0.6000\n",
      "Epoch 49/50\n",
      "199/199 [==============================] - 4s 18ms/step - loss: 0.0756 - acc: 0.9799 - val_loss: 1.8352 - val_acc: 0.5400\n",
      "Epoch 50/50\n",
      "199/199 [==============================] - 4s 18ms/step - loss: 0.0990 - acc: 0.9648 - val_loss: 1.9234 - val_acc: 0.5600\n"
     ]
    }
   ],
   "source": [
    "# load data\n",
    "X,y=load_data.load_datasets()\n",
    "\n",
    "# pre process\n",
    "X=pre_process(X)\n",
    "\n",
    "#one hot encode\n",
    "y,num_classes=one_hot_encode(y)\n",
    "\n",
    "\n",
    "#split dataset\n",
    "X_train, X_test, y_train, y_test = train_test_split(X, y, test_size=0.20, random_state=7)\n",
    "\n",
    "epochs = 50\n",
    "#define model\n",
    "model=define_model(num_classes,epochs)\n",
    "\n",
    "\n",
    "# Fit the model\n",
    "history=model.fit(X_train, y_train, validation_data=(X_test, y_test), epochs=epochs, batch_size=32)"
   ]
  },
  {
   "cell_type": "code",
   "execution_count": 7,
   "metadata": {},
   "outputs": [
    {
     "name": "stdout",
     "output_type": "stream",
     "text": [
      "dict_keys(['val_loss', 'val_acc', 'loss', 'acc'])\n"
     ]
    }
   ],
   "source": [
    "# list all data in history\n",
    "print(history.history.keys())"
   ]
  },
  {
   "cell_type": "markdown",
   "metadata": {},
   "source": [
    "# Summarize History for Accuracy"
   ]
  },
  {
   "cell_type": "code",
   "execution_count": 8,
   "metadata": {},
   "outputs": [
    {
     "data": {
      "image/png": "[encoded data removed]",
      "text/plain": [
       "<matplotlib.figure.Figure at 0x7fdcf3b24b38>"
      ]
     },
     "metadata": {},
     "output_type": "display_data"
    }
   ],
   "source": [
    "plt.plot(history.history['acc'])\n",
    "plt.plot(history.history['val_acc'])\n",
    "plt.title('model accuracy')\n",
    "plt.ylabel('accuracy')\n",
    "plt.xlabel('epoch')\n",
    "plt.legend(['train', 'test'], loc='upper left')\n",
    "plt.show()"
   ]
  },
  {
   "cell_type": "markdown",
   "metadata": {},
   "source": [
    "# Summarize History for Loss"
   ]
  },
  {
   "cell_type": "code",
   "execution_count": 9,
   "metadata": {},
   "outputs": [
    {
     "data": {
      "image/png": "[encoded data removed]",
      "text/plain": [
       "<matplotlib.figure.Figure at 0x7fdcf39b8cc0>"
      ]
     },
     "metadata": {},
     "output_type": "display_data"
    }
   ],
   "source": [
    "plt.plot(history.history['loss'])\n",
    "plt.plot(history.history['val_loss'])\n",
    "plt.title('model loss')\n",
    "plt.ylabel('loss')\n",
    "plt.xlabel('epoch')\n",
    "plt.legend(['train', 'test'], loc='upper left')\n",
    "plt.show()\n"
   ]
  },
  {
   "cell_type": "code",
   "execution_count": 10,
   "metadata": {},
   "outputs": [
    {
     "name": "stdout",
     "output_type": "stream",
     "text": [
      "Accuracy: 56.00%\n",
      "Saved model to disk\n"
     ]
    }
   ],
   "source": [
    "# Final evaluation of the model\n",
    "scores = model.evaluate(X_test, y_test, verbose=0)\n",
    "print(\"Accuracy: %.2f%%\" % (scores[1]*100))\n",
    "\n",
    "# serialize model to JSONx\n",
    "model_json = model.to_json()\n",
    "with open(\"model_face.json\", \"w\") as json_file:\n",
    "    json_file.write(model_json)\n",
    "# serialize weights to HDF5\n",
    "model.save_weights(\"model_face.h5\")\n",
    "print(\"Saved model to disk\")"
   ]
  },
  {
   "cell_type": "code",
   "execution_count": null,
   "metadata": {
    "collapsed": true
   },
   "outputs": [],
   "source": []
  },
  {
   "cell_type": "code",
   "execution_count": null,
   "metadata": {
    "collapsed": true
   },
   "outputs": [],
   "source": []
  }
 ],
 "metadata": {
  "kernelspec": {
   "display_name": "Python 3",
   "language": "python",
   "name": "python3"
  },
  "language_info": {
   "codemirror_mode": {
    "name": "ipython",
    "version": 3
   },
   "file_extension": ".py",
   "mimetype": "text/x-python",
   "name": "python",
   "nbconvert_exporter": "python",
   "pygments_lexer": "ipython3",
   "version": "3.6.4"
  }
 },
 "nbformat": 4,
 "nbformat_minor": 2
}
